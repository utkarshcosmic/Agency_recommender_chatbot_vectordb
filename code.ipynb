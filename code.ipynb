{
 "cells": [
  {
   "cell_type": "code",
   "execution_count": 8,
   "id": "d6098f1a",
   "metadata": {},
   "outputs": [
    {
     "name": "stderr",
     "output_type": "stream",
     "text": [
      "Ignoring wrong pointing object 16 0 (offset 0)\n",
      "Ignoring wrong pointing object 17 0 (offset 0)\n"
     ]
    },
    {
     "name": "stdout",
     "output_type": "stream",
     "text": [
      "agency\n",
      "agency_id agency_name specialization skills description\n",
      "1 Nexus Digital Digital Marketing SEO, PPC, Content Creation Nexus Digital is a results-driven digital marketing agency. We leverage data and creativity to build powerful online presences for our clients, ensuring maximum ROI through targeted strategies.\n",
      "2 Apex Communications Public Relations Media Relations, Crisis Management, Press Releases At Apex Communications, we shape public perception. Our team of seasoned PR professionals excels at crafting compelling narratives, managing reputations, and securing high-impact media coverage.\n",
      "3 Stellar Strategy Group Brand Strategy Market Research, Brand Positioning, Identity Design Stellar Strategy Group helps brands discover their true north. We combine in-depth market research with creative insights to build timeless brand identities and eﬀective market-entry strategies.\n",
      "4 Quantum Creative Creative Advertising Video Production, Copywriting, Graphic Design Quantum Creative is an award-winning advertising agency that believes in bold ideas. We produce memorable campaigns that captivate audiences and drive business growth through innovative storytelling.\n",
      "5 Fusion Web Works Web Development UI/UX Design, Front-End Development, E-commerce Solutions Fusion Web Works builds beautiful, high-performance websites. Our focus is on creating seamless user experiences that are not only visually stunning but also technically robust and optimized for conversion.\n",
      "6 Vivid Social Social Media Management Content Curation, Community Engagement, Ad Campaigns Vivid Social turns followers into fans. We manage social media channels with a focus on authentic engagement, creating vibrant communities and running targeted ad campaigns that deliver results.\n",
      "7 Momentum Inﬂuencers Inﬂuencer Marketing Talent Sourcing, Campaign Management, Performance Tracking Momentum Inﬂuencers connects brands with authentic voices. We design and manage impactful inﬂuencer marketing campaigns from start to ﬁnish, ensuring alignment, engagement, and measurable success.\n",
      "8 Blue Ocean Analytics Digital Marketing Data Analytics, SEO, Conversion Rate Optimization Blue Ocean Analytics is all about the data. We specialize in dissecting performance metrics to reﬁne digital strategies, focusing on SEO and CRO to turn traﬃc into revenue.\n",
      "9 The Narrative Co. Public Relations Storytelling, Media Training, Corporate Communications The Narrative Co. crafts stories that resonate. We specialize in building strong corporate narratives and preparing leaders for the spotlight through comprehensive media training and PR strategies.\n",
      "10 BrandCore Partners Brand Strategy Brand Architecture, Naming, Messaging Frameworks At BrandCore Partners, we build brands from the inside out. Our strategic approach ensures that every aspect of your brand, from its name to its message, is coherent, compelling, and market-ready.\n",
      "11 Pixel Perfect Ads Creative Advertising Display Ads, Social Media Ads, Motion Graphics Pixel Perfect Ads creates advertising that clicks. We specialize in designing visually arresting digital ads for all platforms, optimized for engagement and conversion.\n",
      "12 Code & Canvas Web Development JavaScript, React, Node.js, Headless CMS Code & Canvas is where technology meets design. We are a team of expert developers and designers creating bespoke web applications and websites with cutting-edge technology.\n",
      "13 Social Sphere Agency Social Media Management Platform Strategy, Analytics, Paid Social Social Sphere Agency oﬀers a 360-degree approach to social media. We develop platform-speciﬁc strategies backed by deep analytics to grow your audience and achieve your business objectives.\n",
      "14 Reachﬂuence Inﬂuencer Marketing Micro-Inﬂuencer Campaigns, ROI Analysis, Content Strategy Reachﬂuence specializes in unlocking the power of micro-inﬂuencers. We create authentic, scalable campaigns that drive genuine engagement and deliver a high return on investment.\n"
     ]
    }
   ],
   "source": [
    "from langchain_community.document_loaders import PyPDFLoader\n",
    "#loading the pdf file\n",
    "loader = PyPDFLoader(\"agency.pdf\")\n",
    "pages = loader.load_and_split()\n",
    "print(pages[0].page_content)"
   ]
  },
  {
   "cell_type": "code",
   "execution_count": 9,
   "id": "3bb1e766",
   "metadata": {},
   "outputs": [
    {
     "name": "stdout",
     "output_type": "stream",
     "text": [
      "agency\n",
      "agency_id agency_name specialization skills description\n",
      "1 Nexus Digital Digital Marketing SEO, PPC, Content Creation Nexus Digital is a results-driven digital marketing agency. We leverage data and creativity to build powerful online presences for our clients, ensuring maximum ROI through targeted strategies.\n",
      "2 Apex Communications Public Relations Media Relations, Crisis Management, Press Releases At Apex Communications, we shape public perception. Our team of seasoned PR professionals excels at crafting compelling narratives, managing reputations, and securing high-impact media coverage.\n",
      "3 Stellar Strategy Group Brand Strategy Market Research, Brand Positioning, Identity Design Stellar Strategy Group helps brands discover their true north. We combine in-depth market research with creative insights to build timeless brand identities and eﬀective market-entry strategies.\n",
      "4 Quantum Creative Creative Advertising Video Production, Copywriting, Graphic Design Quantum Creative is an award-winning advertising agency that believes in bold ideas. We produce memorable campaigns that captivate audiences and drive business growth through innovative storytelling.\n",
      "5 Fusion Web Works Web Development UI/UX Design, Front-End Development, E-commerce Solutions Fusion Web Works builds beautiful, high-performance websites. Our focus is on creating seamless user experiences that are not only visually stunning but also technically robust and optimized for conversion.\n",
      "6 Vivid Social Social Media Management Content Curation, Community Engagement, Ad Campaigns Vivid Social turns followers into fans. We manage social media channels with a focus on authentic engagement, creating vibrant communities and running targeted ad campaigns that deliver results.\n",
      "7 Momentum Inﬂuencers Inﬂuencer Marketing Talent Sourcing, Campaign Management, Performance Tracking Momentum Inﬂuencers connects brands with authentic voices. We design and manage impactful inﬂuencer marketing campaigns from start to ﬁnish, ensuring alignment, engagement, and measurable success.\n",
      "8 Blue Ocean Analytics Digital Marketing Data Analytics, SEO, Conversion Rate Optimization Blue Ocean Analytics is all about the data. We specialize in dissecting performance metrics to reﬁne digital strategies, focusing on SEO and CRO to turn traﬃc into revenue.\n",
      "9 The Narrative Co. Public Relations Storytelling, Media Training, Corporate Communications The Narrative Co. crafts stories that resonate. We specialize in building strong corporate narratives and preparing leaders for the spotlight through comprehensive media training and PR strategies.\n",
      "10 BrandCore Partners Brand Strategy Brand Architecture, Naming, Messaging Frameworks At BrandCore Partners, we build brands from the inside out. Our strategic approach ensures that every aspect of your brand, from its name to its message, is coherent, compelling, and market-ready.\n",
      "11 Pixel Perfect Ads Creative Advertising Display Ads, Social Media Ads, Motion Graphics Pixel Perfect Ads creates advertising that clicks. We specialize in designing visually arresting digital ads for all platforms, optimized for engagement and conversion.\n",
      "12 Code & Canvas Web Development JavaScript, React, Node.js, Headless CMS Code & Canvas is where technology meets design. We are a team of expert developers and designers creating bespoke web applications and websites with cutting-edge technology.\n",
      "13 Social Sphere Agency Social Media Management Platform Strategy, Analytics, Paid Social Social Sphere Agency oﬀers a 360-degree approach to social media. We develop platform-speciﬁc strategies backed by deep analytics to grow your audience and achieve your business objectives.\n",
      "14 Reachﬂuence Inﬂuencer Marketing Micro-Inﬂuencer Campaigns, ROI Analysis, Content Strategy Reachﬂuence specializes in unlocking the power of micro-inﬂuencers. We create authentic, scalable campaigns that drive genuine engagement and deliver a high return on investment.\n"
     ]
    }
   ],
   "source": [
    "#Splitting the pdf file into chunks\n",
    "from langchain.text_splitter import CharacterTextSplitter\n",
    "\n",
    "text_splitter = CharacterTextSplitter(chunk_size=1000, chunk_overlap=200)\n",
    "text=text_splitter.split_documents(pages)\n",
    "# This prints only the text content\n",
    "print(text[0].page_content)"
   ]
  },
  {
   "cell_type": "code",
   "execution_count": 10,
   "id": "a954b7d7",
   "metadata": {},
   "outputs": [
    {
     "name": "stdout",
     "output_type": "stream",
     "text": [
      "Splitted into 15 chunks of text\n"
     ]
    }
   ],
   "source": [
    "text_splitter = CharacterTextSplitter(chunk_size=1000, chunk_overlap=200)\n",
    "documents = text_splitter.split_documents(pages)\n",
    "print(f\"Splitted into {len(documents)} chunks of text\")"
   ]
  },
  {
   "cell_type": "code",
   "execution_count": 11,
   "id": "26013b74",
   "metadata": {},
   "outputs": [
    {
     "data": {
      "text/plain": [
       "True"
      ]
     },
     "execution_count": 11,
     "metadata": {},
     "output_type": "execute_result"
    }
   ],
   "source": [
    "from dotenv import load_dotenv\n",
    "load_dotenv()"
   ]
  },
  {
   "cell_type": "code",
   "execution_count": 12,
   "id": "fac07908",
   "metadata": {},
   "outputs": [
    {
     "name": "stderr",
     "output_type": "stream",
     "text": [
      "E0000 00:00:1760680692.272377 1981370 alts_credentials.cc:93] ALTS creds ignored. Not running on GCP and untrusted ALTS is not enabled.\n"
     ]
    },
    {
     "name": "stdout",
     "output_type": "stream",
     "text": [
      "Embedding length: 768\n",
      "Embedding: [0.04665990173816681, 0.017178256064653397, 0.019394660368561745, 0.013999304734170437, -0.06340420246124268, 0.05293895676732063, -0.022750448435544968, 0.06483644992113113, 0.05790889635682106, 0.02519158460199833, -0.033616263419389725, -0.010672819800674915, 0.10925289988517761, -0.09094943851232529, 0.004616389516741037, -0.0612606555223465, 0.011472431011497974, 0.0018287760904058814, -0.09828978031873703, -0.01710587553679943, -0.004942489322274923, -0.014795134775340557, -0.043945878744125366, -0.05189420282840729, -0.002531003439798951, -0.028303995728492737, 0.043373238295316696, 0.044013720005750656, -0.018479924649000168, 0.0016347082564607263, 0.03966779634356499, 0.0004910776042379439, 0.02800567075610161, -0.0329865887761116, 0.0331537090241909, -0.09375783801078796, -0.039138518273830414, 0.044918932020664215, 0.0015835576923564076, -0.07691213488578796, -0.06633520871400833, 0.02662636712193489, -0.07450801134109497, -0.0031149345450103283, -0.04314573109149933, 0.0005717470776289701, 0.034397415816783905, 0.03919544816017151, -0.02780313789844513, 0.06510279327630997, -0.025727303698658943, 0.017713643610477448, -0.059176504611968994, 0.05678996443748474, -0.0421035960316658, -0.01119544543325901, -0.004978689830750227, -0.0024206172674894333, 0.01203406136482954, 0.029061079025268555, -0.03431522101163864, 0.03588397800922394, -0.03399042412638664, 6.610588025068864e-05, 0.05120624229311943, -0.005368558689951897, -0.006701864302158356, 0.020493976771831512, -0.0584510862827301, -0.004922478925436735, 0.02107960544526577, 0.04358338564634323, -0.05677039921283722, -0.00010419784666737542, -0.004228020086884499, -0.03083646111190319, -0.04565100744366646, -0.01792173460125923, 0.006154453847557306, 0.060802944004535675, 0.0090200649574399, 0.005870483350008726, 0.038806308060884476, 0.03206910192966461, 0.011282398365437984, -0.04398186877369881, 0.006852088496088982, -0.012481395155191422, -0.05590541660785675, -0.07136796414852142, 0.0007979858783073723, -0.026783116161823273, -0.003322886535897851, -0.013633240945637226, 0.0041411202400922775, 0.02451091818511486, -0.013160665519535542, 0.034419089555740356, 0.0307468194514513, -0.03267543017864227, -0.031127186492085457, 0.023809168487787247, -0.04199635237455368, -0.03214777261018753, 0.1193886250257492, 0.015578405931591988, 0.025729624554514885, -0.0026549361646175385, -0.0655163899064064, 0.011434732936322689, -0.023350577801465988, 0.005641456227749586, 0.02847968228161335, -0.04399821534752846, -0.009556659497320652, -0.027252020314335823, -0.0953390896320343, 0.02636263519525528, -0.004922822117805481, -0.0513419508934021, -0.043663784861564636, -0.014637964777648449, -0.0011873081093654037, 0.05697444826364517, 0.06285650283098221, 0.019274890422821045, -0.014978667721152306, -0.04537711292505264, -0.10787408798933029, 0.03947100043296814, 0.04005147144198418, -0.08416511118412018, 0.03048931621015072, 0.04334420710802078, -0.01912645995616913, -0.009880481287837029, 0.05222727730870247, -0.006178294774144888, -0.0048897420056164265, -0.04754839092493057, 0.009003231301903725, 0.014747626148164272, -0.01576434262096882, 0.05377674847841263, 0.054898250848054886, -0.046822451055049896, 0.011172875761985779, 0.0281866192817688, 0.016350341960787773, -0.028465813025832176, -0.023883385583758354, -0.03357734531164169, 0.020866377279162407, 0.004131695721298456, 0.03264426067471504, 0.011710834689438343, 0.03164787217974663, -0.022993814200162888, 0.05754229798913002, -0.027328014373779297, -0.020922774448990822, -0.0018064068863168359, -0.01724371686577797, 0.02045026235282421, -0.012995237484574318, -0.032231900840997696, -0.012538027949631214, -0.08783745765686035, 0.0030595860444009304, -0.02849554643034935, 0.02528310753405094, 0.001690973644144833, -0.03419778123497963, -0.058126211166381836, -0.0073624602518975735, 0.012310384772717953, -0.002686345251277089, -0.0763869658112526, -0.04498260095715523, -0.0415588840842247, 0.08552884310483932, -0.008133210241794586, 0.018503595143556595, -0.03202834725379944, -0.013487393967807293, 0.035164542496204376, -0.09805861115455627, 0.008472992107272148, 0.016937125474214554, 0.019159836694598198, -0.009918391704559326, -0.021368037909269333, 0.01936386525630951, -0.03224657103419304, -0.019363846629858017, -0.008633383549749851, -0.05104582756757736, 0.008077505975961685, -0.007763565052300692, -0.0132069680839777, 0.010785776190459728, -0.026559460908174515, 0.006552375387400389, -0.03672283887863159, -0.04114723950624466, 0.017023766413331032, -0.032676905393600464, -0.04252941161394119, 0.03210422396659851, -0.014846350997686386, 0.03617469221353531, -0.0026260088197886944, 0.0022154278121888638, -0.025914998725056648, -0.027834970504045486, 0.008001233451068401, 0.024499019607901573, 0.011292549781501293, 0.009723682887852192, -0.09122482687234879, -0.10911878943443298, -0.03528110682964325, 0.056171976029872894, -0.03776568919420242, -0.016479894518852234, 0.07583114504814148, -0.034889694303274155, -0.061654798686504364, 0.007219615858048201, -0.03893344849348068, -0.008315580897033215, 0.010512198321521282, -0.02412867173552513, 0.048336271196603775, -0.023827122524380684, 0.0001166046567959711, 0.004014738369733095, 0.007828457280993462, 0.01331958919763565, 0.023242201656103134, 0.02344183437526226, -0.0019571525044739246, -0.022980857640504837, -0.11222194135189056, -0.035608671605587006, 0.06182726100087166, 0.005661664996296167, 0.03367568552494049, 0.0016783036990091205, -0.10468558222055435, -0.012351780198514462, -0.023336227983236313, -0.008352795615792274, -0.021895458921790123, -0.021779173985123634, -0.06247583031654358, -0.0048987665213644505, -0.045913878828287125, -0.0014035190688446164, 0.02246037684381008, 0.04433935508131981, -0.02858337201178074, 0.010085763409733772, -0.044222187250852585, 0.018564002588391304, -0.099159836769104, 0.017508095130324364, -0.02993909642100334, -0.026951046660542488, -0.06864033639431, 0.0025872066617012024, 0.01999540999531746, -0.04062462970614433, -0.011204934678971767, -0.008184710517525673, 0.010552969761192799, 0.015048759989440441, 0.01290359627455473, -0.03662749379873276, -0.026668451726436615, 0.016959724947810173, -0.020408090204000473, -0.044087667018175125, -0.026882780715823174, 0.021393725648522377, -0.05132924020290375, 0.01354386005550623, -0.01991904340684414, -0.023593423888087273, -0.07803253829479218, 0.04263006150722504, 0.027862245216965675, 0.047437138855457306, 0.0666482225060463, -0.03453270345926285, 0.00644971476867795, 0.036646731197834015, 0.004581775516271591, 0.0039140162989497185, -0.015215233899652958, -0.001980753615498543, 0.06825228035449982, -0.030300322920084, 0.025614062324166298, 0.01927175186574459, 0.017370987683534622, -0.03455724939703941, -0.020115813240408897, 0.003160514635965228, 0.014443140476942062, 0.005746052600443363, 0.0453513003885746, 0.040008991956710815, -0.05503201112151146, -0.02723775990307331, 0.030475301668047905, -0.11190664023160934, -0.026943854987621307, -0.0987691655755043, -0.026446333155035973, 0.082550548017025, 0.0074078054167330265, -0.058312688022851944, 0.03993425890803337, 0.04913479462265968, 0.0064566428773105145, 0.016888713464140892, 0.01595803163945675, -0.048376139253377914, -0.0036533174570649862, 0.030676277354359627, -0.014423349872231483, -0.041336189955472946, -0.046985924243927, 0.04338892176747322, 0.024927183985710144, -0.040907956659793854, -0.01301586627960205, -0.0020143643487244844, 0.03537268564105034, -0.013119451701641083, 0.0028622527606785297, 0.048115186393260956, 0.022174376994371414, -0.03856659680604935, -0.007389967795461416, 0.0076586222276091576, 0.00971923116594553, 0.010347011499106884, 0.006981690879911184, -0.009826108813285828, 0.054614465683698654, -0.009811165742576122, -0.008833392523229122, -0.010610782541334629, -0.02321963757276535, 0.020320039242506027, -0.024001870304346085, -0.03444067761301994, -0.002347506582736969, -0.0063875154592096806, 0.003136357292532921, 0.009540986269712448, 0.04538258537650108, -0.037962041795253754, 0.006439022719860077, -0.0035176039673388004, 0.012545584701001644, 0.022084366530179977, -0.010860160924494267, 0.003522008890286088, 0.009555308148264885, -0.012880044989287853, -0.006182980723679066, 0.022221585735678673, -0.009154640138149261, 0.004545317031443119, 0.07727926224470139, 0.002775545697659254, -0.040456246584653854, -0.020784683525562286, -0.052434638142585754, 0.01524278149008751, 0.05597085878252983, -0.023959146812558174, 0.05139429122209549, -0.04314730688929558, 0.023711515590548515, 0.018031613901257515, -0.013308587484061718, -0.06596945226192474, 0.029916351661086082, -0.03899967297911644, 0.0475328154861927, -0.04908096045255661, 0.022285200655460358, -0.011124852113425732, -0.0009832276264205575, -0.012127069756388664, -0.03271003067493439, -0.04034412279725075, 0.021717261523008347, 0.07729797810316086, -0.035648491233587265, -0.04986809566617012, 0.016165273264050484, 0.0869988426566124, 0.013964300975203514, 0.038516607135534286, -0.012659409083425999, 0.00789716187864542, -0.0330650769174099, -0.03903387114405632, -0.04345640167593956, -0.015033849515020847, 0.052945561707019806, 0.009822996333241463, 0.004576387349516153, 0.02737094834446907, 0.056733399629592896, 0.008111878298223019, -0.021989768370985985, 0.027898717671632767, -0.00937393493950367, 0.017698578536510468, -0.026809995993971825, -0.01546053122729063, -0.005765161942690611, 0.01640770211815834, 0.03739125654101372, -0.04432344436645508, 0.025958579033613205, 0.012569869868457317, -0.004231175873428583, 0.036935850977897644, 0.031756799668073654, -0.007922710850834846, 0.012590121477842331, -0.069343701004982, 0.026731375604867935, -0.010004292242228985, 0.015632374212145805, 0.04645131900906563, 0.00741927232593298, 0.007907751016318798, 0.001715855672955513, 0.033419668674468994, 0.060354020446538925, 0.015692895278334618, -0.00520629296079278, -0.02084844559431076, 0.02903457172214985, 0.032147955149412155, -0.041738227009773254, 0.0030192688573151827, 0.048274654895067215, 0.042223673313856125, -0.004622188396751881, 0.0165173951536417, -0.0207205917686224, 0.013438657857477665, -0.01531448308378458, 0.023479990661144257, 0.020670084282755852, 0.026976559311151505, -0.023759983479976654, 0.0039261868223547935, 0.005915065295994282, -0.013737483881413937, 0.035706061869859695, 0.006991285365074873, -0.01175000611692667, 0.039415646344423294, 0.029229115694761276, 0.005886881146579981, -0.012658576481044292, 0.046704720705747604, -0.0073303640820086, -0.01993490569293499, -0.01058998517692089, 0.00841512531042099, -0.0096196373924613, 0.06250693649053574, 0.017674263566732407, 0.061786290258169174, -0.02689041942358017, 0.017803726717829704, -0.02604416199028492, -0.008749119937419891, 0.008480741642415524, -0.03795243054628372, -0.0028388218488544226, 0.0055303554981946945, -0.033312827348709106, 0.007745618000626564, -0.030572764575481415, 0.008869554847478867, 0.026790346950292587, 0.018680838868021965, 0.054007936269044876, 0.04474584758281708, 0.054208025336265564, 0.019383475184440613, -0.025168869644403458, -0.013354703783988953, -0.024617552757263184, 0.014708291739225388, -0.0022733942605555058, -0.04040299728512764, 0.010330088436603546, 0.047419529408216476, -0.007334044668823481, 0.029702099040150642, -0.03946620225906372, 0.052228428423404694, 0.039937034249305725, -0.032828859984874725, 0.012212463654577732, -0.019038666039705276, 0.019330723211169243, 0.00045231045805849135, -0.04408147558569908, -0.021625202149152756, -0.000945919833611697, 0.018487516790628433, -0.029422873631119728, -0.03201667219400406, -0.013006806373596191, -0.0075265648774802685, 0.039572574198246, 0.005387425422668457, 0.09233346581459045, 0.051100220531225204, 0.051583100110292435, -0.016278835013508797, 0.05475110933184624, -0.007313859649002552, 0.060536812990903854, 0.007660618517547846, 0.02496739849448204, -0.003759080311283469, -0.05964234471321106, 0.06414354592561722, -0.0024188528768718243, 0.07599486410617828, -0.025397615507245064, -0.03886719420552254, 0.03860856965184212, -0.03868811950087547, 0.07748560607433319, 0.04149238392710686, -0.004699562210589647, 0.03135531023144722, 0.0029272339306771755, 0.007321384269744158, -0.028390705585479736, 0.06228345260024071, 0.013007400557398796, -0.03608105704188347, 0.023304464295506477, -0.011215238831937313, -0.019185280427336693, -0.034894995391368866, -0.001784361433237791, -0.0046297647058963776, 0.05729535594582558, -0.012249180115759373, -0.015353307127952576, 0.011079960502684116, -0.04114268720149994, 0.008594308979809284, -0.042344316840171814, 6.494789704447612e-05, 0.010192410089075565, -0.015584335662424564, 0.004866401664912701, 0.006931802723556757, -0.016514107584953308, -0.008642448112368584, -0.07209955155849457, -0.008476806804537773, -0.005337377544492483, 0.07768377661705017, -0.0054143997840583324, 0.0006500101881101727, -0.026727769523859024, 0.004433332942426205, 0.00703376205638051, 0.021211711689829826, 0.004767624195665121, 0.004168603103607893, -0.0017079049721360207, -0.015284143388271332, -0.0400150790810585, 0.04823184385895729, 0.007183890324085951, -0.027701573446393013, 0.02391856722533703, 0.07195265591144562, 0.018151823431253433, 0.02920292690396309, 0.02081460878252983, 0.020336613059043884, -0.0418575182557106, -0.02141513116657734, 0.003904566867277026, 0.02860933542251587, -0.0003222811792511493, 0.016003800556063652, 0.011184567585587502, 0.0028959063347429037, 0.01925017684698105, -0.029755596071481705, -0.00022970479039940983, -0.07472944259643555, -0.01799212582409382, -0.02983740344643593, 0.014391101896762848, -0.04146851971745491, -0.049124110490083694, -0.002137221163138747, 0.008180975914001465, 0.026241976767778397, 0.029785389080643654, -0.09084092080593109, -0.038704413920640945, -0.022932536900043488, 0.0349668525159359, -0.012028098106384277, -0.0026777596212923527, -0.0085366265848279, -0.0007782518514432013, 0.031951580196619034, -0.008896718733012676, -0.006686795968562365, 0.0025043324567377567, -0.0019509351113811135, -0.03193331137299538, 0.03185455873608589, -0.006794632878154516, -4.359597369330004e-05, 0.002124998951330781, 0.04448508843779564, 0.0478682667016983, -0.010763010941445827, -0.025760654360055923, -0.04666558653116226, -0.03811803460121155, -0.04219111055135727, -0.03766419366002083, -0.006399357691407204, 0.007756185717880726, 0.006958067417144775, -0.026949875056743622, -0.00224687741138041, -0.03902552276849747, 0.01551100518554449, -0.054000262171030045, 0.025595393031835556, 0.010402861051261425, 0.02406568080186844, 0.00803829450160265, -0.05013837665319443, -0.0013797632418572903, -0.029098523780703545, -0.007645868696272373, 9.363034041598439e-05, 0.02925008535385132, 0.012961102649569511, -0.05253389850258827, -0.04380057007074356, 0.019057398661971092, -0.010565380565822124, 0.08533582091331482, 0.021070480346679688, -0.011013790033757687, 0.015524227172136307, 0.012356230057775974, -0.003220431273803115, -0.022812463343143463, 0.003506249748170376, -0.08174710720777512, -0.03556003421545029, 0.007550057023763657, 0.002303352812305093, -0.016646813601255417, -0.030573248863220215, 0.0452909842133522, 0.040987856686115265, 0.11283355951309204, 0.010329961776733398, -0.002820114605128765, -0.011266798712313175, -0.0028716244269162416, 0.012006411328911781, 0.03608447685837746, -0.026941539719700813, 0.0004403914208523929, 0.0003027999773621559, -0.004339943174272776, -0.053929802030324936, -0.016152121126651764, -0.05281248316168785, -0.039715539664030075, 0.018377888947725296, 0.008847026154398918, 0.06820059567689896, 0.04808414354920387, -0.06373555958271027, 0.014233177527785301, -0.046702347695827484, 0.021309593692421913, 0.054016608744859695, 0.034631215035915375, -0.013551845215260983, -0.032997578382492065, 0.0681215226650238, 0.036314480006694794, 0.015062990598380566, 0.014131518080830574, -0.0513918399810791, -0.10007506608963013, 0.015717318281531334, 0.044606659561395645, -0.010450845584273338, -0.058321431279182434, -0.03949672728776932, -0.03436749055981636, -0.020020630210638046, 0.007293772418051958, -0.002171205123886466, -0.017619553953409195, -0.020759714767336845, 0.0782056674361229, -0.0038155175279825926, 0.047609444707632065, 0.01821611262857914, -0.007032246794551611, -0.06865685433149338, 0.032173458486795425, 0.003541352227330208, -0.010611642152071, 0.015460411086678505, -0.053040213882923126, -0.0050779967568814754, 0.020852401852607727, -0.014292579144239426, -0.057456471025943756, -0.019899118691682816, -0.024620605632662773, -0.04363550990819931, 0.05689123272895813, -0.03765304759144783, 0.04907923564314842, 0.02883562259376049, -0.057150449603796005, 0.007788655813783407, -0.05757360905408859, 0.017408257350325584, 0.051831722259521484, -0.01944485865533352, 0.08526142686605453, -0.06790070980787277, 0.056358978152275085, -0.01747162453830242, -0.03503953665494919, -0.002779643749818206, -0.009929901920258999]\n"
     ]
    }
   ],
   "source": [
    "#Embedding the text chunks\n",
    "from langchain_google_genai import GoogleGenerativeAIEmbeddings\n",
    "import os\n",
    "API_KEY = os.getenv(\"Google_API_KEY\")\n",
    "\n",
    "embeddings = GoogleGenerativeAIEmbeddings(\n",
    "    model=\"models/text-embedding-004\",\n",
    "    google_api_key=API_KEY\n",
    ")\n",
    "    \n",
    "embedded_query = embeddings.embed_query(\"what is agency?\")\n",
    "print(f\"Embedding length: {len(embedded_query)}\")\n",
    "print(f\"Embedding: {embedded_query}\")"
   ]
  },
  {
   "cell_type": "code",
   "execution_count": 13,
   "id": "d4db4287",
   "metadata": {},
   "outputs": [],
   "source": [
    "from pinecone import Pinecone\n",
    "import os\n",
    "\n",
    "PINECONE_API_KEY = os.getenv(\"PINECONE_API_KEY\")\n",
    "pc = Pinecone(api_key=PINECONE_API_KEY)\n",
    "index = pc.Index(\"agency\")"
   ]
  },
  {
   "cell_type": "code",
   "execution_count": 14,
   "id": "f23d852e",
   "metadata": {},
   "outputs": [],
   "source": [
    "from pinecone import ServerlessSpec\n",
    "\n",
    "cloud = 'aws'\n",
    "region = 'us-east-1'\n",
    "\n",
    "spec = ServerlessSpec(\n",
    "    cloud=cloud,\n",
    "    region=region,\n",
    ")"
   ]
  },
  {
   "cell_type": "code",
   "execution_count": 15,
   "id": "4c8fad9a",
   "metadata": {},
   "outputs": [],
   "source": [
    "index_name = \"agency\""
   ]
  },
  {
   "cell_type": "code",
   "execution_count": 16,
   "id": "1edf6c20",
   "metadata": {},
   "outputs": [
    {
     "name": "stderr",
     "output_type": "stream",
     "text": [
      "/Users/utkarsh_verma/Codes/VS CODE/Vecter_db/env/lib/python3.13/site-packages/langchain_pinecone/__init__.py:3: LangChainDeprecationWarning: As of langchain-core 0.3.0, LangChain uses pydantic v2 internally. The langchain_core.pydantic_v1 module was a compatibility shim for pydantic v1, and should no longer be used. Please update the code to import from Pydantic directly.\n",
      "\n",
      "For example, replace imports like: `from langchain_core.pydantic_v1 import BaseModel`\n",
      "with: `from pydantic import BaseModel`\n",
      "or the v1 compatibility namespace if you are working in a code base that has not been fully upgraded to pydantic 2 yet. \tfrom pydantic.v1 import BaseModel\n",
      "\n",
      "  from langchain_pinecone.vectorstores import Pinecone, PineconeVectorStore\n"
     ]
    }
   ],
   "source": [
    "from langchain_pinecone import PineconeVectorStore\n",
    "\n",
    "docsearch = PineconeVectorStore.from_documents(text, embeddings, index_name=index_name)\n"
   ]
  },
  {
   "cell_type": "code",
   "execution_count": 17,
   "id": "e789594c",
   "metadata": {},
   "outputs": [
    {
     "data": {
      "text/plain": [
       "VectorStoreRetriever(tags=['PineconeVectorStore', 'GoogleGenerativeAIEmbeddings'], vectorstore=<langchain_pinecone.vectorstores.PineconeVectorStore object at 0x112911e80>, search_kwargs={})"
      ]
     },
     "execution_count": 17,
     "metadata": {},
     "output_type": "execute_result"
    }
   ],
   "source": [
    "docsearch.as_retriever()"
   ]
  },
  {
   "cell_type": "code",
   "execution_count": 18,
   "id": "cc91607b",
   "metadata": {},
   "outputs": [],
   "source": [
    "# import google.generativeai as genai\n",
    "# import os\n",
    "\n",
    "# # Make sure your API key is set\n",
    "# genai.configure(api_key=os.environ[\"Google_API_KEY\"])\n",
    "\n",
    "# print(\"Available models that support 'generateContent':\")\n",
    "\n",
    "# # List all available models\n",
    "# for model in genai.list_models():\n",
    "#   # Check if the model supports the 'generateContent' method used by chat models\n",
    "#   if 'generateContent' in model.supported_generation_methods:\n",
    "#     print(f\"- {model.name}\")"
   ]
  },
  {
   "cell_type": "code",
   "execution_count": 19,
   "id": "92272a84",
   "metadata": {},
   "outputs": [
    {
     "name": "stderr",
     "output_type": "stream",
     "text": [
      "/var/folders/g7/7gd9p2bd6w1bc6kqjptpjjnh0000gn/T/ipykernel_42241/1146116395.py:18: LangChainDeprecationWarning: The method `Chain.__call__` was deprecated in langchain 0.1.0 and will be removed in 1.0. Use :meth:`~invoke` instead.\n",
      "  result = qa({\"question\": query, \"chat_history\": chat_history})\n",
      "E0000 00:00:1760680702.338828 1981370 alts_credentials.cc:93] ALTS creds ignored. Not running on GCP and untrusted ALTS is not enabled.\n"
     ]
    },
    {
     "name": "stdout",
     "output_type": "stream",
     "text": [
      "Answer: Based on the context provided, two agencies list \"Content Creation\" as a direct skill:\n",
      "\n",
      "*   **Nexus Digital** (agency_id 1): A Digital Marketing agency with skills in SEO, PPC, and **Content Creation**.\n",
      "*   **The Daily Post** (agency_id 146): A Social Media Management agency with skills in **Content Creation**, Copywriting, and Scheduling.\n",
      "\n",
      "Other agencies specialize in specific types of content creation, such as:\n",
      "\n",
      "*   **Quantum Creative** (agency_id 4): Specializes in Video Production, Copywriting, and Graphic Design.\n",
      "*   **Focal Point Creative** (agency_id 179): Specializes in Photography, Videography, and Product Shoots.\n",
      "*   **Storyboard Studios** (agency_id 123): Specializes in Animated Explainers, Whiteboard Videos, and Character Animation.\n"
     ]
    }
   ],
   "source": [
    "from langchain.chains import ConversationalRetrievalChain\n",
    "from langchain_google_genai import ChatGoogleGenerativeAI\n",
    "from langchain.vectorstores import FAISS\n",
    "from langchain.chains.conversational_retrieval.prompts import CONDENSE_QUESTION_PROMPT\n",
    "\n",
    "load_dotenv()\n",
    "API_KEY = os.getenv(\"Google_API_KEY\")\n",
    "llm = ChatGoogleGenerativeAI(model=\"gemini-2.5-pro\", temoperature=0.5, google_api_key=API_KEY)\n",
    "qa = ConversationalRetrievalChain.from_llm(llm=llm,\n",
    "                                             retriever=docsearch.as_retriever(),\n",
    "                                             condense_question_prompt=CONDENSE_QUESTION_PROMPT,\n",
    "                                             return_source_documents=True,\n",
    "                                             verbose=False\n",
    "                                             )\n",
    "\n",
    "chat_history = []\n",
    "query = \"which agency specializes in content creation?\"\n",
    "result = qa({\"question\": query, \"chat_history\": chat_history})\n",
    "print(\"Answer:\", result['answer'])"
   ]
  },
  {
   "cell_type": "code",
   "execution_count": 20,
   "id": "833ebbbd",
   "metadata": {},
   "outputs": [],
   "source": [
    "# # Let's see what Python is actually loading.\n",
    "# api_key_from_env = os.getenv(\"PINECONE_API_KEY\")\n",
    "\n",
    "# # Use the loaded key\n",
    "# pc = Pinecone(api_key=api_key_from_env)\n",
    "# index = pc.Index(host=\"agency-xa1d4pq.svc.aped-4627-b74a.pinecone.io\")\n",
    "\n",
    "# # Initialize the embedding model\n",
    "# API_KEY = os.getenv(\"Google_API_KEY\")\n",
    "\n",
    "# embeddings = GoogleGenerativeAIEmbeddings(\n",
    "#     model=\"models/text-embedding-004\",\n",
    "#     google_api_key=API_KEY\n",
    "# )\n",
    "\n",
    "# # --- Step 3: Create a Vector from Your Query Text ---\n",
    "# query_text = \"which agency specializes in content creation?\"\n",
    "# query_vector = embeddings.embed_query(query_text)\n",
    "\n",
    "# # --- Step 4: Search Pinecone Using the Vector ---\n",
    "# results = index.query(\n",
    "#     vector=query_vector,   # Use the keyword argument 'vector'\n",
    "#     namespace=\"\",\n",
    "#     top_k=2,\n",
    "#     include_metadata=True\n",
    "# )\n",
    "\n",
    "\n",
    "# print(\"\\nSearch Results:\")\n",
    "# print(results)"
   ]
  },
  {
   "cell_type": "code",
   "execution_count": 21,
   "id": "b1a38f4f",
   "metadata": {},
   "outputs": [],
   "source": [
    "# from langchain_google_genai import GoogleGenerativeAIEmbeddings, ChatGoogleGenerativeAI\n",
    "# # --- Step 4: Extract the Text from the Metadata ---\n",
    "# context = \"\"\n",
    "# for match in results['matches']:\n",
    "#     if 'text' in match['metadata']:\n",
    "#         context += match['metadata']['text'] + \"\\n---\\n\"\n",
    "\n",
    "\n",
    "\n",
    "\n",
    "# # --- Step 5: Augment and Generate the Final Answer ---\n",
    "# # Initialize the chat model\n",
    "# llm = ChatGoogleGenerativeAI(model=\"gemini-1.0-pro\", google_api_key=os.getenv(\"Google_API_KEY\"))\n",
    "\n",
    "# # Create a prompt template\n",
    "# prompt = f\"\"\"\n",
    "# Answer the following question based ONLY on the context provided below.\n",
    "# If the context doesn't contain the answer, say \"I don't have enough information to answer.\"\n",
    "\n",
    "# Context:\n",
    "# {context}\n",
    "\n",
    "# Question:\n",
    "# {query}\n",
    "# \"\"\"\n",
    "\n",
    "# # Ask the model to generate the answer\n",
    "# final_answer = llm.invoke(prompt)\n",
    "\n",
    "# print(\"--- Final Answer ---\")\n",
    "# print(final_answer.content)"
   ]
  }
 ],
 "metadata": {
  "kernelspec": {
   "display_name": "env",
   "language": "python",
   "name": "python3"
  },
  "language_info": {
   "codemirror_mode": {
    "name": "ipython",
    "version": 3
   },
   "file_extension": ".py",
   "mimetype": "text/x-python",
   "name": "python",
   "nbconvert_exporter": "python",
   "pygments_lexer": "ipython3",
   "version": "3.13.7"
  }
 },
 "nbformat": 4,
 "nbformat_minor": 5
}
